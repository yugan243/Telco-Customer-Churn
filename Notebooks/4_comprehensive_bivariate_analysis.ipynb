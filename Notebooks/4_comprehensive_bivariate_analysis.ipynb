{
 "cells": [
  {
   "cell_type": "code",
   "execution_count": null,
   "id": "4907c05f",
   "metadata": {},
   "outputs": [],
   "source": [
    "demographic_features = [\n",
    "                        \"gender\", \"SeniorCitizen\", \"Partner\", \"Dependents\", \"is_new_customer\"\n",
    "                        ]\n",
    "\n",
    "df['Churn'] = df['Churn'].map({'Yes': 1, 'No': 0})\n",
    "\n",
    "fig, axes = plt.subplots(2, 3, figsize=(10,6))\n",
    "axes = axes.flatten()\n",
    "\n",
    "for i, feature in enumerate(demographic_features):\n",
    "    ax = axes[i]\n",
    "    # Barplot: Show % churn within each category of the feature\n",
    "    churn_rates = (\n",
    "        df.groupby(feature)['Churn']\n",
    "        .value_counts(normalize=True)\n",
    "        .rename('percentage')\n",
    "        .reset_index()\n",
    "        .query('Churn==1')  # Only show churn rates\n",
    "    )\n",
    "\n",
    "    sns.barplot(data=churn_rates, x=feature, y='percentage', ax=ax)\n",
    "    ax.set_title(f'Churn Rate by {feature}')\n",
    "    ax.set_ylabel('Churn Rate')\n",
    "    ax.set_xlabel(feature)\n",
    "\n",
    "# Remove empty subplots\n",
    "for j in range(i+1, len(axes)):\n",
    "    fig.delaxes(axes[j])\n",
    "\n",
    "plt.tight_layout()\n",
    "plt.show()\n"
   ]
  }
 ],
 "metadata": {
  "language_info": {
   "name": "python"
  }
 },
 "nbformat": 4,
 "nbformat_minor": 5
}

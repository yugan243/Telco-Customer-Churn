{
  "cells": [
    {
      "cell_type": "markdown",
      "metadata": {
        "id": "view-in-github",
        "colab_type": "text"
      },
      "source": [
        "<a href=\"https://colab.research.google.com/github/yugan243/Telco-Customer-Churn/blob/main/Data%20Preprocessing%20and%20Model%20Training/3_hyperparams_tuning.ipynb\" target=\"_parent\"><img src=\"https://colab.research.google.com/assets/colab-badge.svg\" alt=\"Open In Colab\"/></a>"
      ]
    },
    {
      "cell_type": "code",
      "source": [
        "!git clone https://github.com/yugan243/Telco-Customer-Churn.git\n"
      ],
      "metadata": {
        "id": "CIeP2DkxYf1s",
        "outputId": "a68b4773-0071-49d9-8e6f-1466b7010723",
        "colab": {
          "base_uri": "https://localhost:8080/"
        }
      },
      "id": "CIeP2DkxYf1s",
      "execution_count": 1,
      "outputs": [
        {
          "output_type": "stream",
          "name": "stdout",
          "text": [
            "Cloning into 'Telco-Customer-Churn'...\n",
            "remote: Enumerating objects: 156, done.\u001b[K\n",
            "remote: Counting objects: 100% (156/156), done.\u001b[K\n",
            "remote: Compressing objects: 100% (111/111), done.\u001b[K\n",
            "remote: Total 156 (delta 61), reused 123 (delta 36), pack-reused 0 (from 0)\u001b[K\n",
            "Receiving objects: 100% (156/156), 2.89 MiB | 12.04 MiB/s, done.\n",
            "Resolving deltas: 100% (61/61), done.\n"
          ]
        }
      ]
    },
    {
      "cell_type": "markdown",
      "id": "c14436d6",
      "metadata": {
        "id": "c14436d6"
      },
      "source": [
        "## HyperParameter Tuning with Cross Validation"
      ]
    },
    {
      "cell_type": "code",
      "source": [
        "!pip install catboost"
      ],
      "metadata": {
        "id": "eyYJ_Fd8YxLH",
        "outputId": "ff70a042-88b7-4144-c86d-e1ae2c4bcd7a",
        "colab": {
          "base_uri": "https://localhost:8080/"
        }
      },
      "id": "eyYJ_Fd8YxLH",
      "execution_count": 3,
      "outputs": [
        {
          "output_type": "stream",
          "name": "stdout",
          "text": [
            "Collecting catboost\n",
            "  Downloading catboost-1.2.8-cp311-cp311-manylinux2014_x86_64.whl.metadata (1.2 kB)\n",
            "Requirement already satisfied: graphviz in /usr/local/lib/python3.11/dist-packages (from catboost) (0.21)\n",
            "Requirement already satisfied: matplotlib in /usr/local/lib/python3.11/dist-packages (from catboost) (3.10.0)\n",
            "Requirement already satisfied: numpy<3.0,>=1.16.0 in /usr/local/lib/python3.11/dist-packages (from catboost) (2.0.2)\n",
            "Requirement already satisfied: pandas>=0.24 in /usr/local/lib/python3.11/dist-packages (from catboost) (2.2.2)\n",
            "Requirement already satisfied: scipy in /usr/local/lib/python3.11/dist-packages (from catboost) (1.16.1)\n",
            "Requirement already satisfied: plotly in /usr/local/lib/python3.11/dist-packages (from catboost) (5.24.1)\n",
            "Requirement already satisfied: six in /usr/local/lib/python3.11/dist-packages (from catboost) (1.17.0)\n",
            "Requirement already satisfied: python-dateutil>=2.8.2 in /usr/local/lib/python3.11/dist-packages (from pandas>=0.24->catboost) (2.9.0.post0)\n",
            "Requirement already satisfied: pytz>=2020.1 in /usr/local/lib/python3.11/dist-packages (from pandas>=0.24->catboost) (2025.2)\n",
            "Requirement already satisfied: tzdata>=2022.7 in /usr/local/lib/python3.11/dist-packages (from pandas>=0.24->catboost) (2025.2)\n",
            "Requirement already satisfied: contourpy>=1.0.1 in /usr/local/lib/python3.11/dist-packages (from matplotlib->catboost) (1.3.3)\n",
            "Requirement already satisfied: cycler>=0.10 in /usr/local/lib/python3.11/dist-packages (from matplotlib->catboost) (0.12.1)\n",
            "Requirement already satisfied: fonttools>=4.22.0 in /usr/local/lib/python3.11/dist-packages (from matplotlib->catboost) (4.59.0)\n",
            "Requirement already satisfied: kiwisolver>=1.3.1 in /usr/local/lib/python3.11/dist-packages (from matplotlib->catboost) (1.4.8)\n",
            "Requirement already satisfied: packaging>=20.0 in /usr/local/lib/python3.11/dist-packages (from matplotlib->catboost) (25.0)\n",
            "Requirement already satisfied: pillow>=8 in /usr/local/lib/python3.11/dist-packages (from matplotlib->catboost) (11.3.0)\n",
            "Requirement already satisfied: pyparsing>=2.3.1 in /usr/local/lib/python3.11/dist-packages (from matplotlib->catboost) (3.2.3)\n",
            "Requirement already satisfied: tenacity>=6.2.0 in /usr/local/lib/python3.11/dist-packages (from plotly->catboost) (8.5.0)\n",
            "Downloading catboost-1.2.8-cp311-cp311-manylinux2014_x86_64.whl (99.2 MB)\n",
            "\u001b[2K   \u001b[90m━━━━━━━━━━━━━━━━━━━━━━━━━━━━━━━━━━━━━━━━\u001b[0m \u001b[32m99.2/99.2 MB\u001b[0m \u001b[31m8.6 MB/s\u001b[0m eta \u001b[36m0:00:00\u001b[0m\n",
            "\u001b[?25hInstalling collected packages: catboost\n",
            "Successfully installed catboost-1.2.8\n"
          ]
        }
      ]
    },
    {
      "cell_type": "code",
      "source": [
        "%cd /content/Telco-Customer-Churn/'Data Preprocessing and Model Training'"
      ],
      "metadata": {
        "id": "5jZqWvB1NP1v",
        "outputId": "a07e8307-b6c0-485b-f8f3-8952a9056ac6",
        "colab": {
          "base_uri": "https://localhost:8080/"
        }
      },
      "id": "5jZqWvB1NP1v",
      "execution_count": 2,
      "outputs": [
        {
          "output_type": "stream",
          "name": "stdout",
          "text": [
            "/content/Telco-Customer-Churn/Data Preprocessing and Model Training\n"
          ]
        }
      ]
    },
    {
      "cell_type": "code",
      "source": [
        "import sys\n",
        "\n",
        "# Add the project's root directory to the system path\n",
        "# This allows the notebook to find the 'Scripts' package\n",
        "project_path = '/content/Telco-Customer-Churn'\n",
        "if project_path not in sys.path:\n",
        "    sys.path.append(project_path)"
      ],
      "metadata": {
        "id": "NDdulzpPNg-n"
      },
      "id": "NDdulzpPNg-n",
      "execution_count": 4,
      "outputs": []
    },
    {
      "cell_type": "markdown",
      "id": "df3f0aae",
      "metadata": {
        "id": "df3f0aae"
      },
      "source": [
        "### Import Dependencies"
      ]
    },
    {
      "cell_type": "code",
      "execution_count": 5,
      "id": "aa3539fe",
      "metadata": {
        "id": "aa3539fe"
      },
      "outputs": [],
      "source": [
        "import numpy as np\n",
        "import pandas as pd\n",
        "import matplotlib.pyplot as plt\n",
        "import seaborn as sns\n",
        "import joblib\n",
        "import warnings\n",
        "from Scripts.business_focused_evaluator import BusinessModelEvaluator\n",
        "from sklearn.ensemble import RandomForestClassifier\n",
        "from xgboost import XGBClassifier\n",
        "from catboost import CatBoostClassifier\n",
        "from sklearn.model_selection import GridSearchCV, StratifiedKFold\n",
        "from sklearn.metrics import (\n",
        "                            classification_report,\n",
        "                            confusion_matrix,\n",
        "                            accuracy_score,\n",
        "                            f1_score,\n",
        "                            precision_score,\n",
        "                            recall_score,\n",
        "                            )\n",
        "warnings.filterwarnings('ignore')"
      ]
    },
    {
      "cell_type": "markdown",
      "id": "1bb10c05",
      "metadata": {
        "id": "1bb10c05"
      },
      "source": [
        "### Data Loading"
      ]
    },
    {
      "cell_type": "code",
      "execution_count": 6,
      "id": "7f292e8a",
      "metadata": {
        "id": "7f292e8a"
      },
      "outputs": [],
      "source": [
        "X_train = np.load('../Artifacts/X_train.npz', allow_pickle=True)['arr_0']\n",
        "Y_train = np.load('../Artifacts/Y_train.npz', allow_pickle=True)['arr_0']\n",
        "X_test = np.load('../Artifacts/X_test.npz', allow_pickle=True)['arr_0']\n",
        "Y_test = np.load('../Artifacts/Y_test.npz', allow_pickle=True)['arr_0']"
      ]
    },
    {
      "cell_type": "markdown",
      "id": "33eb6057",
      "metadata": {
        "id": "33eb6057"
      },
      "source": [
        "### 1. Random Forest + Grid Search CV + Stratified K Fold"
      ]
    },
    {
      "cell_type": "code",
      "execution_count": 17,
      "id": "05d9d201",
      "metadata": {
        "colab": {
          "base_uri": "https://localhost:8080/"
        },
        "id": "05d9d201",
        "outputId": "63dd0045-d7fc-437e-b6cf-6c73ca260adc"
      },
      "outputs": [
        {
          "output_type": "stream",
          "name": "stdout",
          "text": [
            "Starting hyperparameter tuning for Random Forest...\n",
            "Fitting 5 folds for each of 72 candidates, totalling 360 fits\n",
            "Tuning complete.\n",
            "\n",
            "--- Hyperparameter Tuning Results ---\n",
            "Best F1-Score (from CV): 0.8519\n",
            "Best hyperparameters:\n",
            "{'max_depth': 20, 'max_features': 'sqrt', 'min_samples_leaf': 2, 'min_samples_split': 5, 'n_estimators': 300}\n",
            "\n",
            "Cross-Validation Metrics for the Best Model:\n",
            "  - Mean F1-Score: 0.8519\n",
            "  - Mean Recall:   0.8683\n",
            "  - Mean Precision:0.8364\n",
            "\n",
            "--- Final Classification Report on Test Set ---\n",
            "              precision    recall  f1-score   support\n",
            "\n",
            "           0       0.86      0.85      0.86      1036\n",
            "           1       0.60      0.63      0.61       373\n",
            "\n",
            "    accuracy                           0.79      1409\n",
            "   macro avg       0.73      0.74      0.74      1409\n",
            "weighted avg       0.79      0.79      0.79      1409\n",
            "\n"
          ]
        }
      ],
      "source": [
        "# Define the parameter value ranges\n",
        "params_grid = {\n",
        "            'n_estimators': [100, 200, 300],\n",
        "            'max_depth': [10, 15, 20],\n",
        "            'min_samples_split': [5, 10],\n",
        "            'min_samples_leaf': [2, 4],\n",
        "            'max_features': ['sqrt', 'log2']\n",
        "            }\n",
        "\n",
        "# Define the metrics want to track\n",
        "scorings = {\n",
        "        'f1': 'f1',\n",
        "        'recall': 'recall',\n",
        "        'precision': 'precision'\n",
        "        }\n",
        "\n",
        "# Setup the model and the CV\n",
        "rf_clf_tuned = RandomForestClassifier(random_state=42, n_jobs=-1)\n",
        "cv_stratified = StratifiedKFold(n_splits=5, shuffle=True, random_state=42)\n",
        "\n",
        "grid_search = GridSearchCV(\n",
        "                            estimator=rf_clf_tuned,\n",
        "                            param_grid=params_grid,\n",
        "                            scoring=scorings,\n",
        "                            cv=cv_stratified,\n",
        "                            verbose=2,\n",
        "                            n_jobs=-1,\n",
        "                            refit='f1',\n",
        "                            )\n",
        "\n",
        "# Run the hyperparemter search\n",
        "print(\"Starting hyperparameter tuning for Random Forest...\")\n",
        "grid_search.fit(X_train, Y_train)\n",
        "print(\"Tuning complete.\")\n",
        "\n",
        "# Print the best results\n",
        "print(\"\\n--- Hyperparameter Tuning Results ---\")\n",
        "print(f\"Best F1-Score (from CV): {grid_search.best_score_:.4f}\")\n",
        "print(\"Best hyperparameters:\")\n",
        "print(grid_search.best_params_)\n",
        "\n",
        "\n",
        "# Get the index of the best model\n",
        "best_index = grid_search.best_index_\n",
        "\n",
        "\n",
        "# Print all metrics for the best model from the cross-validation results\n",
        "print(\"\\nCross-Validation Metrics for the Best Model:\")\n",
        "print(f\"  - Mean F1-Score: {grid_search.cv_results_['mean_test_f1'][best_index]:.4f}\")\n",
        "print(f\"  - Mean Recall:   {grid_search.cv_results_['mean_test_recall'][best_index]:.4f}\")\n",
        "print(f\"  - Mean Precision:{grid_search.cv_results_['mean_test_precision'][best_index]:.4f}\")\n",
        "\n",
        "# Final Evaluation on the Test Set\n",
        "best_rf_model = grid_search.best_estimator_\n",
        "y_pred_best_rf = best_rf_model.predict(X_test)\n",
        "\n",
        "print(\"\\n--- Final Classification Report on Test Set ---\")\n",
        "print(classification_report(Y_test, y_pred_best_rf))"
      ]
    },
    {
      "cell_type": "markdown",
      "source": [
        "### Evaluate with Business focussed metrics\n",
        "\n",
        "\n",
        "\n"
      ],
      "metadata": {
        "id": "2sI5SDK5V-p5"
      },
      "id": "2sI5SDK5V-p5"
    },
    {
      "cell_type": "code",
      "source": [
        "best_rf_model = grid_search.best_estimator_\n",
        "\n",
        "# Get Prediction Probabilities for Evaluation\n",
        "y_probs_rf_tuned = best_rf_model.predict_proba(X_test)[:, 1]\n",
        "\n",
        "# Define business costs\n",
        "COST_FP = 75\n",
        "COST_FN = 2000\n",
        "\n",
        "# Create an instance of our evaluator\n",
        "rf_tuned_evaluator = BusinessModelEvaluator(\n",
        "                                            y_true=Y_test,\n",
        "                                            y_pred_proba=y_probs_rf_tuned,\n",
        "                                            model_name=\"Tuned Random Forest\"\n",
        "                                            )\n",
        "\n",
        "# Run the Full Business-Focused Evaluation\n",
        "rf_tuned_evaluator.plot_precision_recall_curve()\n",
        "rf_tuned_evaluator.cost_sensitive_analysis(cost_fp=COST_FP, cost_fn=COST_FN)\n",
        "optimal_thresh, min_cost = rf_tuned_evaluator.find_optimal_threshold(cost_fp=COST_FP, cost_fn=COST_FN)\n",
        "rf_tuned_evaluator.cost_sensitive_analysis(cost_fp=COST_FP, cost_fn=COST_FN, threshold=optimal_thresh)"
      ],
      "metadata": {
        "id": "EL5n_KxJN8GE",
        "outputId": "6273175c-8c39-4d13-f9ff-df557297fc6f",
        "colab": {
          "base_uri": "https://localhost:8080/",
          "height": 919
        }
      },
      "id": "EL5n_KxJN8GE",
      "execution_count": 18,
      "outputs": [
        {
          "output_type": "display_data",
          "data": {
            "text/plain": [
              "<Figure size 1000x700 with 1 Axes>"
            ],
            "image/png": "[encoded data removed]"
          },
          "metadata": {}
        },
        {
          "output_type": "stream",
          "name": "stdout",
          "text": [
            "Precision-Recall AUC for Tuned Random Forest: 0.6460\n",
            "\n",
            "--- Cost-Sensitive Analysis at Threshold = 0.5 ---\n",
            "False Positives (FP): 157 -> Cost: $11,775.00\n",
            "False Negatives (FN): 138 -> Cost: $276,000.00\n",
            "Total Business Cost: $287,775.00\n",
            "\n",
            "--- Threshold Optimization ---\n",
            "Optimal Threshold for Minimum Business Cost: 0.0783\n",
            "Minimum Achievable Business Cost: $61,875.00\n",
            "\n",
            "--- Cost-Sensitive Analysis at Threshold = 0.07831691638805084 ---\n",
            "False Positives (FP): 665 -> Cost: $49,875.00\n",
            "False Negatives (FN): 6 -> Cost: $12,000.00\n",
            "Total Business Cost: $61,875.00\n"
          ]
        },
        {
          "output_type": "execute_result",
          "data": {
            "text/plain": [
              "np.int64(61875)"
            ]
          },
          "metadata": {},
          "execution_count": 18
        }
      ]
    },
    {
      "cell_type": "markdown",
      "source": [
        "### 2. XGBoost + Grid Search CV + Stratified K Fold"
      ],
      "metadata": {
        "id": "4wGfvW8FWx5J"
      },
      "id": "4wGfvW8FWx5J"
    },
    {
      "cell_type": "code",
      "source": [
        "# Define the Hyperparameter Grid for XGBoost\n",
        "param_grid_xgb = {\n",
        "                'n_estimators': [100, 200, 300],\n",
        "                'max_depth': [3, 5, 7],\n",
        "                'learning_rate': [0.05, 0.1],\n",
        "                'subsample': [0.7, 0.8],\n",
        "                'colsample_bytree': [0.7, 0.8]\n",
        "                }\n",
        "\n",
        "scoring = {\n",
        "          'f1': 'f1',\n",
        "          'recall': 'recall',\n",
        "          'precision': 'precision'\n",
        "          }\n",
        "\n",
        "\n",
        "xgb_clf_tuned = XGBClassifier(\n",
        "                              use_label_encoder=False,\n",
        "                              eval_metric='logloss',\n",
        "                              random_state=42,\n",
        "                              n_jobs=-1,\n",
        "                              device='cuda'\n",
        "                              )\n",
        "\n",
        "\n",
        "# Initialize Stratified K-Fold cross-validation\n",
        "cv_stratified = StratifiedKFold(n_splits=5, shuffle=True, random_state=42)\n",
        "\n",
        "\n",
        "# We will again use 'f1' as our primary metric to find a balanced model.\n",
        "grid_search_xgb = GridSearchCV(\n",
        "                              estimator=xgb_clf_tuned,\n",
        "                              param_grid=param_grid_xgb,\n",
        "                              cv=cv_stratified,\n",
        "                              scoring=scoring,\n",
        "                              refit='f1',\n",
        "                              verbose=2,\n",
        "                              n_jobs=-1\n",
        "                              )\n",
        "\n",
        "# Run the Hyperparameter Search\n",
        "print(\"Starting hyperparameter tuning for XGBoost...\")\n",
        "grid_search_xgb.fit(X_train, Y_train)\n",
        "print(\"Tuning complete.\")\n",
        "\n",
        "# Print the Comprehensive Best Results\n",
        "print(\"\\n--- Hyperparameter Tuning Results (XGBoost) ---\")\n",
        "print(f\"Best F1-Score (from CV): {grid_search_xgb.best_score_:.4f}\")\n",
        "print(\"Best hyperparameters:\")\n",
        "print(grid_search_xgb.best_params_)\n",
        "\n",
        "best_index_xgb = grid_search_xgb.best_index_\n",
        "print(\"\\nCross-Validation Metrics for the Best Model:\")\n",
        "print(f\"  - Mean F1-Score: {grid_search_xgb.cv_results_['mean_test_f1'][best_index_xgb]:.4f}\")\n",
        "print(f\"  - Mean Recall:   {grid_search_xgb.cv_results_['mean_test_recall'][best_index_xgb]:.4f}\")\n",
        "print(f\"  - Mean Precision:{grid_search_xgb.cv_results_['mean_test_precision'][best_index_xgb]:.4f}\")\n",
        "\n",
        "# Final Evaluation on the Test Set\n",
        "best_xgb_model = grid_search_xgb.best_estimator_\n",
        "\n",
        "# Get standard classification report\n",
        "y_pred_best_xgb = best_xgb_model.predict(X_test)\n",
        "print(\"\\n--- Final Classification Report on Test Set ---\")\n",
        "print(classification_report(Y_test, y_pred_best_xgb))\n"
      ],
      "metadata": {
        "id": "ux6At5QaWgZO",
        "outputId": "c37199b5-1f5a-41f1-e249-efcd25fb23fe",
        "colab": {
          "base_uri": "https://localhost:8080/"
        }
      },
      "id": "ux6At5QaWgZO",
      "execution_count": 8,
      "outputs": [
        {
          "output_type": "stream",
          "name": "stdout",
          "text": [
            "Starting hyperparameter tuning for XGBoost...\n",
            "Fitting 5 folds for each of 72 candidates, totalling 360 fits\n",
            "Tuning complete.\n",
            "\n",
            "--- Hyperparameter Tuning Results (XGBoost) ---\n",
            "Best F1-Score (from CV): 0.8544\n",
            "Best hyperparameters:\n",
            "{'colsample_bytree': 0.8, 'learning_rate': 0.05, 'max_depth': 5, 'n_estimators': 200, 'subsample': 0.8}\n",
            "\n",
            "Cross-Validation Metrics for the Best Model:\n",
            "  - Mean F1-Score: 0.8544\n",
            "  - Mean Recall:   0.8526\n",
            "  - Mean Precision:0.8564\n",
            "\n",
            "--- Final Classification Report on Test Set ---\n",
            "              precision    recall  f1-score   support\n",
            "\n",
            "           0       0.87      0.86      0.87      1036\n",
            "           1       0.63      0.65      0.64       373\n",
            "\n",
            "    accuracy                           0.81      1409\n",
            "   macro avg       0.75      0.76      0.75      1409\n",
            "weighted avg       0.81      0.81      0.81      1409\n",
            "\n"
          ]
        }
      ]
    },
    {
      "cell_type": "markdown",
      "source": [
        "### Evaluate with Business focussed metrics\n",
        "\n",
        "\n",
        "\n"
      ],
      "metadata": {
        "id": "W-8ViQkT8Thb"
      },
      "id": "W-8ViQkT8Thb"
    },
    {
      "cell_type": "code",
      "source": [
        "best_xgb_model = grid_search_xgb.best_estimator_\n",
        "\n",
        "# Get Prediction Probabilities for Evaluation\n",
        "y_probs_xgb_tuned = best_xgb_model.predict_proba(X_test)[:, 1]\n",
        "\n",
        "# Define business costs\n",
        "COST_FP = 75\n",
        "COST_FN = 2000\n",
        "\n",
        "# Create an instance of our evaluator\n",
        "xgb_tuned_evaluator = BusinessModelEvaluator(\n",
        "                                            y_true=Y_test,\n",
        "                                            y_pred_proba=y_probs_xgb_tuned,\n",
        "                                            model_name=\"Tuned XGBoost\"\n",
        "                                            )\n",
        "\n",
        "# Run the Full Business-Focused Evaluation\n",
        "xgb_tuned_evaluator.plot_precision_recall_curve()\n",
        "xgb_tuned_evaluator.cost_sensitive_analysis(cost_fp=COST_FP, cost_fn=COST_FN)\n",
        "optimal_thresh, min_cost = xgb_tuned_evaluator.find_optimal_threshold(cost_fp=COST_FP, cost_fn=COST_FN)\n",
        "xgb_tuned_evaluator.cost_sensitive_analysis(cost_fp=COST_FP, cost_fn=COST_FN, threshold=optimal_thresh)"
      ],
      "metadata": {
        "id": "15Pe9ioKYLrK",
        "outputId": "26a9422d-a3cb-4f2d-9952-01ff36353227",
        "colab": {
          "base_uri": "https://localhost:8080/",
          "height": 919
        }
      },
      "id": "15Pe9ioKYLrK",
      "execution_count": 10,
      "outputs": [
        {
          "output_type": "display_data",
          "data": {
            "text/plain": [
              "<Figure size 1000x700 with 1 Axes>"
            ],
            "image/png": "[encoded data removed]"
          },
          "metadata": {}
        },
        {
          "output_type": "stream",
          "name": "stdout",
          "text": [
            "Precision-Recall AUC for Tuned XGBoost: 0.6823\n",
            "\n",
            "--- Cost-Sensitive Analysis at Threshold = 0.5 ---\n",
            "False Positives (FP): 142 -> Cost: $10,650.00\n",
            "False Negatives (FN): 131 -> Cost: $262,000.00\n",
            "Total Business Cost: $272,650.00\n",
            "\n",
            "--- Threshold Optimization ---\n",
            "Optimal Threshold for Minimum Business Cost: 0.0684\n",
            "Minimum Achievable Business Cost: $57,975.00\n",
            "\n",
            "--- Cost-Sensitive Analysis at Threshold = 0.06844905018806458 ---\n",
            "False Positives (FP): 613 -> Cost: $45,975.00\n",
            "False Negatives (FN): 6 -> Cost: $12,000.00\n",
            "Total Business Cost: $57,975.00\n"
          ]
        },
        {
          "output_type": "execute_result",
          "data": {
            "text/plain": [
              "np.int64(57975)"
            ]
          },
          "metadata": {},
          "execution_count": 10
        }
      ]
    },
    {
      "cell_type": "markdown",
      "source": [
        "### 3. CatBoost + Grid Search CV + Stratified K Fold"
      ],
      "metadata": {
        "id": "ew5ZBk1J_joA"
      },
      "id": "ew5ZBk1J_joA"
    },
    {
      "cell_type": "code",
      "source": [
        "# Define the Hyperparameter Grid for CatBoost\n",
        "param_grid_cat = {\n",
        "                'iterations': [200, 300],\n",
        "                'learning_rate': [0.05, 0.1],\n",
        "                'depth': [4, 6],\n",
        "                'l2_leaf_reg': [1, 3, 5]\n",
        "                }\n",
        "\n",
        "# Set Up the Model and Cross-Validation\n",
        "cat_clf_tuned = CatBoostClassifier(random_state=42, verbose=0 )\n",
        "cv_stratified = StratifiedKFold(n_splits=5, shuffle=True, random_state=42)\n",
        "\n",
        "scoring = {\n",
        "          'f1': 'f1',\n",
        "          'recall': 'recall',\n",
        "          'precision': 'precision'\n",
        "          }\n",
        "\n",
        "grid_search_cat = GridSearchCV(\n",
        "                              estimator=cat_clf_tuned,\n",
        "                              param_grid=param_grid_cat,\n",
        "                              cv=cv_stratified,\n",
        "                              scoring=scoring,\n",
        "                              refit='f1',\n",
        "                              verbose=2,\n",
        "                              n_jobs=-1\n",
        "                              )\n",
        "\n",
        "# Run the Hyperparameter Search\n",
        "print(\"Starting hyperparameter tuning for CatBoost...\")\n",
        "grid_search_cat.fit(X_train, Y_train)\n",
        "print(\"Tuning complete.\")\n",
        "\n",
        "# Print the Comprehensive Best Results\n",
        "print(\"\\n--- Hyperparameter Tuning Results (CatBoost) ---\")\n",
        "print(f\"Best F1-Score (from CV): {grid_search_cat.best_score_:.4f}\")\n",
        "print(\"Best hyperparameters:\")\n",
        "print(grid_search_cat.best_params_)\n",
        "\n",
        "best_index_cat = grid_search_cat.best_index_\n",
        "print(\"\\nCross-Validation Metrics for the Best Model:\")\n",
        "print(f\"  - Mean F1-Score: {grid_search_cat.cv_results_['mean_test_f1'][best_index_cat]:.4f}\")\n",
        "print(f\"  - Mean Recall:   {grid_search_cat.cv_results_['mean_test_recall'][best_index_cat]:.4f}\")\n",
        "print(f\"  - Mean Precision:{grid_search_cat.cv_results_['mean_test_precision'][best_index_cat]:.4f}\")\n",
        "\n",
        "# Final Evaluation on the Test Set\n",
        "best_cat_model = grid_search_cat.best_estimator_\n",
        "\n",
        "# Get standard classification report\n",
        "y_pred_best_cat = best_cat_model.predict(X_test)\n",
        "print(\"\\n--- Final Classification Report on Test Set ---\")\n",
        "print(classification_report(Y_test, y_pred_best_cat))\n"
      ],
      "metadata": {
        "id": "7wgogeqz9G7G",
        "outputId": "d2fad308-1fac-4da6-c7c7-5b755d985624",
        "colab": {
          "base_uri": "https://localhost:8080/"
        }
      },
      "id": "7wgogeqz9G7G",
      "execution_count": 11,
      "outputs": [
        {
          "output_type": "stream",
          "name": "stdout",
          "text": [
            "Starting hyperparameter tuning for CatBoost...\n",
            "Fitting 5 folds for each of 24 candidates, totalling 120 fits\n",
            "Tuning complete.\n",
            "\n",
            "--- Hyperparameter Tuning Results (CatBoost) ---\n",
            "Best F1-Score (from CV): 0.8539\n",
            "Best hyperparameters:\n",
            "{'depth': 4, 'iterations': 300, 'l2_leaf_reg': 5, 'learning_rate': 0.05}\n",
            "\n",
            "Cross-Validation Metrics for the Best Model:\n",
            "  - Mean F1-Score: 0.8539\n",
            "  - Mean Recall:   0.8511\n",
            "  - Mean Precision:0.8570\n",
            "\n",
            "--- Final Classification Report on Test Set ---\n",
            "              precision    recall  f1-score   support\n",
            "\n",
            "           0       0.88      0.86      0.87      1036\n",
            "           1       0.64      0.67      0.65       373\n",
            "\n",
            "    accuracy                           0.81      1409\n",
            "   macro avg       0.76      0.77      0.76      1409\n",
            "weighted avg       0.82      0.81      0.81      1409\n",
            "\n"
          ]
        }
      ]
    },
    {
      "cell_type": "markdown",
      "source": [
        "### Evaluate with Business focussed metrics\n",
        "\n",
        "\n",
        "\n"
      ],
      "metadata": {
        "id": "44x9WBNRChOg"
      },
      "id": "44x9WBNRChOg"
    },
    {
      "cell_type": "code",
      "source": [
        "best_cat_model = grid_search_cat.best_estimator_\n",
        "\n",
        "# Get Prediction Probabilities for Evaluation\n",
        "y_probs_cat_tuned = best_cat_model.predict_proba(X_test)[:, 1]\n",
        "\n",
        "# Define business costs\n",
        "COST_FP = 75\n",
        "COST_FN = 2000\n",
        "\n",
        "# Create an instance of our evaluator\n",
        "cat_tuned_evaluator = BusinessModelEvaluator(\n",
        "                                            y_true=Y_test,\n",
        "                                            y_pred_proba=y_probs_cat_tuned,\n",
        "                                            model_name=\"Tuned CatBoost\"\n",
        "                                            )\n",
        "\n",
        "# Run the Full Business-Focused Evaluation\n",
        "cat_tuned_evaluator.plot_precision_recall_curve()\n",
        "cat_tuned_evaluator.cost_sensitive_analysis(cost_fp=COST_FP, cost_fn=COST_FN)\n",
        "optimal_thresh, min_cost = cat_tuned_evaluator.find_optimal_threshold(cost_fp=COST_FP, cost_fn=COST_FN)\n",
        "cat_tuned_evaluator.cost_sensitive_analysis(cost_fp=COST_FP, cost_fn=COST_FN, threshold=optimal_thresh)"
      ],
      "metadata": {
        "id": "xWbNOaWQBxUX"
      },
      "id": "xWbNOaWQBxUX",
      "execution_count": null,
      "outputs": []
    }
  ],
  "metadata": {
    "kernelspec": {
      "display_name": "Python 3",
      "name": "python3"
    },
    "language_info": {
      "codemirror_mode": {
        "name": "ipython",
        "version": 3
      },
      "file_extension": ".py",
      "mimetype": "text/x-python",
      "name": "python",
      "nbconvert_exporter": "python",
      "pygments_lexer": "ipython3",
      "version": "3.11.13"
    },
    "colab": {
      "provenance": [],
      "gpuType": "T4",
      "include_colab_link": true
    },
    "accelerator": "GPU"
  },
  "nbformat": 4,
  "nbformat_minor": 5
}
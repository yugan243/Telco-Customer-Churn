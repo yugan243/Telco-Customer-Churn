{
  "cells": [
    {
      "cell_type": "markdown",
      "metadata": {
        "id": "view-in-github",
        "colab_type": "text"
      },
      "source": [
        "<a href=\"https://colab.research.google.com/github/yugan243/Telco-Customer-Churn/blob/main/Data%20Preprocessing%20and%20Model%20Training/3_hyperparams_tuning.ipynb\" target=\"_parent\"><img src=\"https://colab.research.google.com/assets/colab-badge.svg\" alt=\"Open In Colab\"/></a>"
      ]
    },
    {
      "cell_type": "code",
      "source": [
        "!git clone https://github.com/yugan243/Telco-Customer-Churn.git"
      ],
      "metadata": {
        "id": "Ujv-RXVEMWoU",
        "outputId": "a7610e51-56d1-4a16-f453-6034eabe5b35",
        "colab": {
          "base_uri": "https://localhost:8080/"
        }
      },
      "id": "Ujv-RXVEMWoU",
      "execution_count": 3,
      "outputs": [
        {
          "output_type": "stream",
          "name": "stdout",
          "text": [
            "fatal: destination path 'Telco-Customer-Churn' already exists and is not an empty directory.\n"
          ]
        }
      ]
    },
    {
      "cell_type": "markdown",
      "id": "c14436d6",
      "metadata": {
        "id": "c14436d6"
      },
      "source": [
        "## HyperParameter Tuning with Cross Validation"
      ]
    },
    {
      "cell_type": "markdown",
      "id": "df3f0aae",
      "metadata": {
        "id": "df3f0aae"
      },
      "source": [
        "### Import Dependencies"
      ]
    },
    {
      "cell_type": "code",
      "execution_count": null,
      "id": "aa3539fe",
      "metadata": {
        "id": "aa3539fe"
      },
      "outputs": [],
      "source": [
        "import numpy as np\n",
        "import pandas as pd\n",
        "import matplotlib.pyplot as plt\n",
        "import seaborn as sns\n",
        "import joblib\n",
        "import warnings\n",
        "from /content/Telco-Customer-Churn/Scripts.business_focused_evaluator import BusinessModelEvaluator\n",
        "from sklearn.ensemble import RandomForestClassifier\n",
        "from xgboost import XGBClassifier\n",
        "from catboost import CatBoostClassifier\n",
        "from sklearn.model_selection import GridSearchCV, StratifiedKFold\n",
        "from sklearn.metrics import (\n",
        "                            classification_report,\n",
        "                            confusion_matrix,\n",
        "                            accuracy_score,\n",
        "                            f1_score,\n",
        "                            precision_score,\n",
        "                            recall_score,\n",
        "                            )\n",
        "warnings.filterwarnings('ignore')"
      ]
    },
    {
      "cell_type": "markdown",
      "id": "1bb10c05",
      "metadata": {
        "id": "1bb10c05"
      },
      "source": [
        "### Data Loading"
      ]
    },
    {
      "cell_type": "code",
      "execution_count": null,
      "id": "7f292e8a",
      "metadata": {
        "id": "7f292e8a"
      },
      "outputs": [],
      "source": [
        "X_train = np.load('../Artifacts/X_train.npz', allow_pickle=True)['arr_0']\n",
        "Y_train = np.load('../Artifacts/Y_train.npz', allow_pickle=True)['arr_0']\n",
        "X_test = np.load('../Artifacts/X_test.npz', allow_pickle=True)['arr_0']\n",
        "Y_test = np.load('../Artifacts/Y_test.npz', allow_pickle=True)['arr_0']"
      ]
    },
    {
      "cell_type": "markdown",
      "id": "33eb6057",
      "metadata": {
        "id": "33eb6057"
      },
      "source": [
        "### 1. Random Forest + Grid Search CV + Stratified K Fold"
      ]
    },
    {
      "cell_type": "code",
      "execution_count": null,
      "id": "05d9d201",
      "metadata": {
        "id": "05d9d201"
      },
      "outputs": [],
      "source": [
        "# Define the parameter value ranges\n",
        "params_grid = {\n",
        "            'n_estimators': [100, 200, 300],\n",
        "            'max_depth': [10, 15, 20],\n",
        "            'min_samples_split': [5, 10],\n",
        "            'min_samples_leaf': [2, 4],\n",
        "            'max_features': ['sqrt', 'log2']\n",
        "            }\n",
        "\n",
        "# Define the metrics want to track\n",
        "scorings = {\n",
        "        'f1': 'f1',\n",
        "        'recall': 'recall',\n",
        "        'precision': 'precision'\n",
        "        }\n",
        "\n",
        "# Setup the model and the CV\n",
        "rf_clf_tuned = RandomForestClassifier(random_state=42, n_jobs=-1)\n",
        "cv_stratified = StratifiedKFold(n_splits=5, shuffle=True, random_state=42)\n",
        "\n",
        "grid_search = GridSearchCV(\n",
        "                            estimator=rf_clf_tuned,\n",
        "                            param_grid=params_grid,\n",
        "                            scoring=scorings,\n",
        "                            cv=cv_stratified,\n",
        "                            verbose=2,\n",
        "                            n_jobs=-1,\n",
        "                            refit='f1',\n",
        "                            )\n",
        "\n",
        "# Run the hyperparemter search\n",
        "print(\"Starting hyperparameter tuning for Random Forest...\")\n",
        "grid_search.fit(X_train, Y_train)\n",
        "print(\"Tuning complete.\")\n",
        "\n",
        "# Print the best results\n",
        "print(\"\\n--- Hyperparameter Tuning Results ---\")\n",
        "print(f\"Best F1-Score (from CV): {grid_search.best_score_:.4f}\")\n",
        "print(\"Best hyperparameters:\")\n",
        "print(grid_search.best_params_)\n",
        "\n",
        "\n",
        "# Get the index of the best model\n",
        "best_index = grid_search.best_index_\n",
        "\n",
        "\n",
        "# Print all metrics for the best model from the cross-validation results\n",
        "print(\"\\nCross-Validation Metrics for the Best Model:\")\n",
        "print(f\"  - Mean F1-Score: {grid_search.cv_results_['mean_test_f1'][best_index]:.4f}\")\n",
        "print(f\"  - Mean Recall:   {grid_search.cv_results_['mean_test_recall'][best_index]:.4f}\")\n",
        "print(f\"  - Mean Precision:{grid_search.cv_results_['mean_test_precision'][best_index]:.4f}\")\n",
        "\n",
        "# Final Evaluation on the Test Set\n",
        "best_rf_model = grid_search.best_estimator_\n",
        "y_pred_best_rf = best_rf_model.predict(X_test)\n",
        "\n",
        "print(\"\\n--- Final Classification Report on Test Set ---\")\n",
        "print(classification_report(Y_test, y_pred_best_rf))"
      ]
    }
  ],
  "metadata": {
    "kernelspec": {
      "display_name": "Telco",
      "language": "python",
      "name": "python3"
    },
    "language_info": {
      "codemirror_mode": {
        "name": "ipython",
        "version": 3
      },
      "file_extension": ".py",
      "mimetype": "text/x-python",
      "name": "python",
      "nbconvert_exporter": "python",
      "pygments_lexer": "ipython3",
      "version": "3.11.13"
    },
    "colab": {
      "provenance": [],
      "include_colab_link": true
    }
  },
  "nbformat": 4,
  "nbformat_minor": 5
}